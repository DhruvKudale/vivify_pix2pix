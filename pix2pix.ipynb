{
 "cells": [
  {
   "cell_type": "markdown",
   "metadata": {
    "colab_type": "text",
    "id": "view-in-github"
   },
   "source": [
    "<a href=\"https://colab.research.google.com/github/bkkaggle/pytorch-CycleGAN-and-pix2pix/blob/master/pix2pix.ipynb\" target=\"_parent\"><img src=\"https://colab.research.google.com/assets/colab-badge.svg\" alt=\"Open In Colab\"/></a>"
   ]
  },
  {
   "cell_type": "markdown",
   "metadata": {
    "colab_type": "text",
    "id": "7wNjDKdQy35h"
   },
   "source": [
    "# Install"
   ]
  },
  {
   "cell_type": "code",
   "execution_count": 1,
   "metadata": {
    "colab": {},
    "colab_type": "code",
    "id": "TRm-USlsHgEV"
   },
   "outputs": [
    {
     "name": "stdout",
     "output_type": "stream",
     "text": [
      "Cloning into 'pytorch-CycleGAN-and-pix2pix'...\n",
      "remote: Enumerating objects: 2447, done.\u001b[K\n",
      "^Cceiving objects:  22% (551/2447), 3.91 MiB | 708.00 KiB/s  \n"
     ]
    }
   ],
   "source": [
    "#!git clone https://github.com/junyanz/pytorch-CycleGAN-and-pix2pix"
   ]
  },
  {
   "cell_type": "code",
   "execution_count": 1,
   "metadata": {
    "colab": {},
    "colab_type": "code",
    "id": "Pt3igws3eiVp"
   },
   "outputs": [
    {
     "data": {
      "text/plain": [
       "'/home/dhruv/Projects/Vivify'"
      ]
     },
     "execution_count": 1,
     "metadata": {},
     "output_type": "execute_result"
    }
   ],
   "source": [
    "#import os\n",
    "#os.getcwd()"
   ]
  },
  {
   "cell_type": "code",
   "execution_count": 2,
   "metadata": {
    "colab": {},
    "colab_type": "code",
    "id": "z1EySlOXwwoa"
   },
   "outputs": [
    {
     "name": "stdout",
     "output_type": "stream",
     "text": [
      "Requirement already satisfied: torch>=1.4.0 in /home/dhruv/anaconda3/lib/python3.9/site-packages (from -r requirements.txt (line 1)) (1.11.0)\n",
      "Requirement already satisfied: torchvision>=0.5.0 in /home/dhruv/anaconda3/lib/python3.9/site-packages (from -r requirements.txt (line 2)) (0.12.0)\n",
      "Requirement already satisfied: dominate>=2.4.0 in /home/dhruv/anaconda3/lib/python3.9/site-packages (from -r requirements.txt (line 3)) (2.6.0)\n",
      "Requirement already satisfied: visdom>=0.1.8.8 in /home/dhruv/anaconda3/lib/python3.9/site-packages (from -r requirements.txt (line 4)) (0.1.8.9)\n",
      "Requirement already satisfied: wandb in /home/dhruv/anaconda3/lib/python3.9/site-packages (from -r requirements.txt (line 5)) (0.12.11)\n",
      "Requirement already satisfied: typing-extensions in /home/dhruv/anaconda3/lib/python3.9/site-packages (from torch>=1.4.0->-r requirements.txt (line 1)) (3.10.0.2)\n",
      "Requirement already satisfied: numpy in /home/dhruv/anaconda3/lib/python3.9/site-packages (from torchvision>=0.5.0->-r requirements.txt (line 2)) (1.20.3)\n",
      "Requirement already satisfied: pillow!=8.3.*,>=5.3.0 in /home/dhruv/anaconda3/lib/python3.9/site-packages (from torchvision>=0.5.0->-r requirements.txt (line 2)) (8.4.0)\n",
      "Requirement already satisfied: requests in /home/dhruv/anaconda3/lib/python3.9/site-packages (from torchvision>=0.5.0->-r requirements.txt (line 2)) (2.26.0)\n",
      "Requirement already satisfied: six in /home/dhruv/anaconda3/lib/python3.9/site-packages (from visdom>=0.1.8.8->-r requirements.txt (line 4)) (1.16.0)\n",
      "Requirement already satisfied: pyzmq in /home/dhruv/anaconda3/lib/python3.9/site-packages (from visdom>=0.1.8.8->-r requirements.txt (line 4)) (22.2.1)\n",
      "Requirement already satisfied: tornado in /home/dhruv/anaconda3/lib/python3.9/site-packages (from visdom>=0.1.8.8->-r requirements.txt (line 4)) (6.1)\n",
      "Requirement already satisfied: torchfile in /home/dhruv/anaconda3/lib/python3.9/site-packages (from visdom>=0.1.8.8->-r requirements.txt (line 4)) (0.1.0)\n",
      "Requirement already satisfied: jsonpatch in /home/dhruv/anaconda3/lib/python3.9/site-packages (from visdom>=0.1.8.8->-r requirements.txt (line 4)) (1.32)\n",
      "Requirement already satisfied: websocket-client in /home/dhruv/anaconda3/lib/python3.9/site-packages (from visdom>=0.1.8.8->-r requirements.txt (line 4)) (1.3.1)\n",
      "Requirement already satisfied: scipy in /home/dhruv/anaconda3/lib/python3.9/site-packages (from visdom>=0.1.8.8->-r requirements.txt (line 4)) (1.7.1)\n",
      "Requirement already satisfied: pathtools in /home/dhruv/anaconda3/lib/python3.9/site-packages (from wandb->-r requirements.txt (line 5)) (0.1.2)\n",
      "Requirement already satisfied: setproctitle in /home/dhruv/anaconda3/lib/python3.9/site-packages (from wandb->-r requirements.txt (line 5)) (1.2.2)\n",
      "Requirement already satisfied: promise<3,>=2.0 in /home/dhruv/anaconda3/lib/python3.9/site-packages (from wandb->-r requirements.txt (line 5)) (2.3)\n",
      "Requirement already satisfied: GitPython>=1.0.0 in /home/dhruv/anaconda3/lib/python3.9/site-packages (from wandb->-r requirements.txt (line 5)) (3.1.27)\n",
      "Requirement already satisfied: Click!=8.0.0,>=7.0 in /home/dhruv/anaconda3/lib/python3.9/site-packages (from wandb->-r requirements.txt (line 5)) (8.0.3)\n",
      "Requirement already satisfied: shortuuid>=0.5.0 in /home/dhruv/anaconda3/lib/python3.9/site-packages (from wandb->-r requirements.txt (line 5)) (1.0.8)\n",
      "Requirement already satisfied: yaspin>=1.0.0 in /home/dhruv/anaconda3/lib/python3.9/site-packages (from wandb->-r requirements.txt (line 5)) (2.1.0)\n",
      "Requirement already satisfied: python-dateutil>=2.6.1 in /home/dhruv/anaconda3/lib/python3.9/site-packages (from wandb->-r requirements.txt (line 5)) (2.8.2)\n",
      "Requirement already satisfied: sentry-sdk>=1.0.0 in /home/dhruv/anaconda3/lib/python3.9/site-packages (from wandb->-r requirements.txt (line 5)) (1.5.7)\n",
      "Requirement already satisfied: psutil>=5.0.0 in /home/dhruv/anaconda3/lib/python3.9/site-packages (from wandb->-r requirements.txt (line 5)) (5.8.0)\n",
      "Requirement already satisfied: docker-pycreds>=0.4.0 in /home/dhruv/anaconda3/lib/python3.9/site-packages (from wandb->-r requirements.txt (line 5)) (0.4.0)\n",
      "Requirement already satisfied: PyYAML in /home/dhruv/anaconda3/lib/python3.9/site-packages (from wandb->-r requirements.txt (line 5)) (6.0)\n",
      "Requirement already satisfied: protobuf>=3.12.0 in /home/dhruv/anaconda3/lib/python3.9/site-packages (from wandb->-r requirements.txt (line 5)) (3.19.4)\n",
      "Requirement already satisfied: gitdb<5,>=4.0.1 in /home/dhruv/anaconda3/lib/python3.9/site-packages (from GitPython>=1.0.0->wandb->-r requirements.txt (line 5)) (4.0.9)\n",
      "Requirement already satisfied: smmap<6,>=3.0.1 in /home/dhruv/anaconda3/lib/python3.9/site-packages (from gitdb<5,>=4.0.1->GitPython>=1.0.0->wandb->-r requirements.txt (line 5)) (5.0.0)\n",
      "Requirement already satisfied: urllib3<1.27,>=1.21.1 in /home/dhruv/anaconda3/lib/python3.9/site-packages (from requests->torchvision>=0.5.0->-r requirements.txt (line 2)) (1.26.7)\n",
      "Requirement already satisfied: charset-normalizer~=2.0.0 in /home/dhruv/anaconda3/lib/python3.9/site-packages (from requests->torchvision>=0.5.0->-r requirements.txt (line 2)) (2.0.4)\n",
      "Requirement already satisfied: certifi>=2017.4.17 in /home/dhruv/anaconda3/lib/python3.9/site-packages (from requests->torchvision>=0.5.0->-r requirements.txt (line 2)) (2021.10.8)\n",
      "Requirement already satisfied: idna<4,>=2.5 in /home/dhruv/anaconda3/lib/python3.9/site-packages (from requests->torchvision>=0.5.0->-r requirements.txt (line 2)) (3.2)\n",
      "Requirement already satisfied: termcolor<2.0.0,>=1.1.0 in /home/dhruv/anaconda3/lib/python3.9/site-packages (from yaspin>=1.0.0->wandb->-r requirements.txt (line 5)) (1.1.0)\n",
      "Requirement already satisfied: jsonpointer>=1.9 in /home/dhruv/anaconda3/lib/python3.9/site-packages (from jsonpatch->visdom>=0.1.8.8->-r requirements.txt (line 4)) (2.2)\n"
     ]
    }
   ],
   "source": [
    "#!pip install -r requirements.txt"
   ]
  },
  {
   "cell_type": "markdown",
   "metadata": {
    "colab_type": "text",
    "id": "8daqlgVhw29P"
   },
   "source": [
    "# Datasets\n",
    "\n",
    "Using my own dataset by creating the appropriate folders and adding in the images. Followed the instructions [here](https://github.com/junyanz/pytorch-CycleGAN-and-pix2pix/blob/master/docs/datasets.md#pix2pix-datasets)."
   ]
  },
  {
   "cell_type": "markdown",
   "metadata": {
    "colab_type": "text",
    "id": "yFw1kDQBx3LN"
   },
   "source": [
    "# Training\n",
    "\n",
    "-   `python train.py --dataroot ./datasets/facades --name facades_pix2pix --model pix2pix --direction BtoA`\n",
    "\n",
    "Change the `--dataroot` and `--name` to your own dataset's path and model's name. Use `--gpu_ids 0,1,..` to train on multiple GPUs and `--batch_size` to change the batch size. Add `--direction BtoA` if you want to train a model to transfrom from class B to A."
   ]
  },
  {
   "cell_type": "code",
   "execution_count": 13,
   "metadata": {
    "colab": {},
    "colab_type": "code",
    "id": "0sp7TCT2x9dB"
   },
   "outputs": [
    {
     "name": "stdout",
     "output_type": "stream",
     "text": [
      "----------------- Options ---------------\n",
      "               batch_size: 32                            \t[default: 1]\n",
      "                    beta1: 0.5                           \n",
      "          checkpoints_dir: ./checkpoints                 \n",
      "           continue_train: False                         \n",
      "                crop_size: 256                           \n",
      "                 dataroot: ../Dataset/dataset20k         \t[default: None]\n",
      "             dataset_mode: aligned                       \n",
      "                direction: BtoA                          \t[default: AtoB]\n",
      "              display_env: main                          \n",
      "             display_freq: 400                           \n",
      "               display_id: 1                             \n",
      "            display_ncols: 4                             \n",
      "             display_port: 8097                          \n",
      "           display_server: http://localhost              \n",
      "          display_winsize: 256                           \n",
      "                    epoch: latest                        \n",
      "              epoch_count: 1                             \n",
      "                 gan_mode: vanilla                       \n",
      "                  gpu_ids: -1                            \t[default: 0]\n",
      "                init_gain: 0.02                          \n",
      "                init_type: normal                        \n",
      "                 input_nc: 3                             \n",
      "                  isTrain: True                          \t[default: None]\n",
      "                lambda_L1: 100.0                         \n",
      "                load_iter: 0                             \t[default: 0]\n",
      "                load_size: 286                           \n",
      "                       lr: 0.0002                        \n",
      "           lr_decay_iters: 50                            \n",
      "                lr_policy: linear                        \n",
      "         max_dataset_size: inf                           \n",
      "                    model: pix2pix                       \t[default: cycle_gan]\n",
      "                 n_epochs: 10                            \t[default: 100]\n",
      "           n_epochs_decay: 10                            \t[default: 100]\n",
      "               n_layers_D: 3                             \n",
      "                     name: vivify                        \t[default: experiment_name]\n",
      "                      ndf: 64                            \n",
      "                     netD: basic                         \n",
      "                     netG: unet_256                      \n",
      "                      ngf: 64                            \n",
      "               no_dropout: False                         \n",
      "                  no_flip: False                         \n",
      "                  no_html: False                         \n",
      "                     norm: batch                         \n",
      "              num_threads: 4                             \n",
      "                output_nc: 3                             \n",
      "                    phase: train                         \n",
      "                pool_size: 0                             \n",
      "               preprocess: resize_and_crop               \n",
      "               print_freq: 100                           \n",
      "             save_by_iter: False                         \n",
      "          save_epoch_freq: 5                             \n",
      "         save_latest_freq: 5000                          \n",
      "           serial_batches: False                         \n",
      "                   suffix:                               \n",
      "         update_html_freq: 1000                          \n",
      "                use_wandb: False                         \n",
      "                  verbose: False                         \n",
      "----------------- End -------------------\n",
      "dataset [AlignedDataset] was created\n",
      "The number of training images = 19500\n",
      "initialize network with normal\n",
      "initialize network with normal\n",
      "model [Pix2PixModel] was created\n",
      "---------- Networks initialized -------------\n",
      "[Network G] Total number of parameters : 54.414 M\n",
      "[Network D] Total number of parameters : 2.769 M\n",
      "-----------------------------------------------\n",
      "Setting up a new session...\n",
      "create web directory ./checkpoints/vivify/web...\n",
      "/home/dhruv/anaconda3/lib/python3.9/site-packages/torch/optim/lr_scheduler.py:131: UserWarning: Detected call of `lr_scheduler.step()` before `optimizer.step()`. In PyTorch 1.1.0 and later, you should call them in the opposite order: `optimizer.step()` before `lr_scheduler.step()`.  Failure to do this will result in PyTorch skipping the first value of the learning rate schedule. See more details at https://pytorch.org/docs/stable/optim.html#how-to-adjust-learning-rate\n",
      "  warnings.warn(\"Detected call of `lr_scheduler.step()` before `optimizer.step()`. \"\n",
      "learning rate 0.0002000 -> 0.0002000\n",
      "/home/dhruv/anaconda3/lib/python3.9/site-packages/torchvision/transforms/transforms.py:332: UserWarning: Argument interpolation should be of type InterpolationMode instead of int. Please, use InterpolationMode enum.\n",
      "  warnings.warn(\n",
      "/home/dhruv/anaconda3/lib/python3.9/site-packages/torchvision/transforms/transforms.py:332: UserWarning: Argument interpolation should be of type InterpolationMode instead of int. Please, use InterpolationMode enum.\n",
      "  warnings.warn(\n",
      "/home/dhruv/anaconda3/lib/python3.9/site-packages/torchvision/transforms/transforms.py:332: UserWarning: Argument interpolation should be of type InterpolationMode instead of int. Please, use InterpolationMode enum.\n",
      "  warnings.warn(\n",
      "/home/dhruv/anaconda3/lib/python3.9/site-packages/torchvision/transforms/transforms.py:332: UserWarning: Argument interpolation should be of type InterpolationMode instead of int. Please, use InterpolationMode enum.\n",
      "  warnings.warn(\n",
      "(epoch: 1, iters: 800, time: 0.950, data: 2.395) G_GAN: 0.850 G_L1: 16.956 D_real: 0.948 D_fake: 0.878 \n",
      "(epoch: 1, iters: 1600, time: 0.853, data: 0.005) G_GAN: 1.066 G_L1: 16.617 D_real: 0.445 D_fake: 0.574 \n",
      "(epoch: 1, iters: 2400, time: 0.853, data: 0.002) G_GAN: 1.446 G_L1: 13.955 D_real: 0.401 D_fake: 0.364 \n",
      "(epoch: 1, iters: 3200, time: 0.850, data: 0.002) G_GAN: 1.514 G_L1: 14.870 D_real: 0.280 D_fake: 0.390 \n",
      "(epoch: 1, iters: 4000, time: 0.863, data: 0.002) G_GAN: 1.582 G_L1: 15.669 D_real: 0.250 D_fake: 0.579 \n",
      "(epoch: 1, iters: 4800, time: 0.854, data: 0.003) G_GAN: 0.950 G_L1: 13.690 D_real: 0.486 D_fake: 0.951 \n",
      "(epoch: 1, iters: 5600, time: 0.853, data: 0.002) G_GAN: 1.339 G_L1: 13.314 D_real: 0.765 D_fake: 0.302 \n",
      "(epoch: 1, iters: 6400, time: 0.885, data: 0.002) G_GAN: 1.661 G_L1: 13.301 D_real: 0.195 D_fake: 0.690 \n",
      "(epoch: 1, iters: 7200, time: 0.981, data: 0.002) G_GAN: 1.727 G_L1: 13.679 D_real: 0.372 D_fake: 0.305 \n",
      "(epoch: 1, iters: 8000, time: 0.873, data: 0.003) G_GAN: 1.681 G_L1: 15.121 D_real: 0.410 D_fake: 0.347 \n",
      "(epoch: 1, iters: 8800, time: 0.891, data: 0.002) G_GAN: 1.451 G_L1: 12.935 D_real: 1.331 D_fake: 0.558 \n",
      "(epoch: 1, iters: 9600, time: 0.856, data: 0.002) G_GAN: 1.593 G_L1: 13.428 D_real: 0.356 D_fake: 0.437 \n",
      "(epoch: 1, iters: 10400, time: 0.856, data: 0.002) G_GAN: 1.536 G_L1: 13.423 D_real: 0.609 D_fake: 0.491 \n",
      "(epoch: 1, iters: 11200, time: 0.853, data: 0.002) G_GAN: 1.214 G_L1: 13.137 D_real: 0.626 D_fake: 0.448 \n",
      "(epoch: 1, iters: 12000, time: 0.855, data: 0.002) G_GAN: 1.869 G_L1: 14.282 D_real: 0.081 D_fake: 1.155 \n",
      "(epoch: 1, iters: 12800, time: 0.908, data: 0.002) G_GAN: 0.899 G_L1: 13.450 D_real: 0.434 D_fake: 0.956 \n",
      "(epoch: 1, iters: 13600, time: 0.858, data: 0.002) G_GAN: 0.841 G_L1: 13.470 D_real: 0.588 D_fake: 0.368 \n",
      "(epoch: 1, iters: 14400, time: 0.985, data: 0.002) G_GAN: 2.145 G_L1: 13.305 D_real: 0.246 D_fake: 1.182 \n",
      "(epoch: 1, iters: 15200, time: 0.852, data: 0.002) G_GAN: 1.710 G_L1: 14.641 D_real: 0.371 D_fake: 0.922 \n",
      "(epoch: 1, iters: 16000, time: 0.850, data: 0.002) G_GAN: 1.410 G_L1: 13.845 D_real: 0.364 D_fake: 0.441 \n",
      "(epoch: 1, iters: 16800, time: 0.987, data: 0.002) G_GAN: 0.701 G_L1: 13.250 D_real: 1.098 D_fake: 0.286 \n",
      "(epoch: 1, iters: 17600, time: 0.852, data: 0.002) G_GAN: 1.393 G_L1: 12.852 D_real: 0.547 D_fake: 0.486 \n",
      "(epoch: 1, iters: 18400, time: 0.852, data: 0.002) G_GAN: 1.803 G_L1: 13.500 D_real: 0.537 D_fake: 0.290 \n",
      "(epoch: 1, iters: 19200, time: 0.850, data: 0.002) G_GAN: 1.478 G_L1: 12.632 D_real: 0.714 D_fake: 0.364 \n",
      "End of epoch 1 / 20 \t Time Taken: 17203 sec\n",
      "learning rate 0.0002000 -> 0.0002000\n",
      "/home/dhruv/anaconda3/lib/python3.9/site-packages/torchvision/transforms/transforms.py:332: UserWarning: Argument interpolation should be of type InterpolationMode instead of int. Please, use InterpolationMode enum.\n",
      "  warnings.warn(\n",
      "/home/dhruv/anaconda3/lib/python3.9/site-packages/torchvision/transforms/transforms.py:332: UserWarning: Argument interpolation should be of type InterpolationMode instead of int. Please, use InterpolationMode enum.\n",
      "  warnings.warn(\n",
      "/home/dhruv/anaconda3/lib/python3.9/site-packages/torchvision/transforms/transforms.py:332: UserWarning: Argument interpolation should be of type InterpolationMode instead of int. Please, use InterpolationMode enum.\n",
      "  warnings.warn(\n",
      "/home/dhruv/anaconda3/lib/python3.9/site-packages/torchvision/transforms/transforms.py:332: UserWarning: Argument interpolation should be of type InterpolationMode instead of int. Please, use InterpolationMode enum.\n",
      "  warnings.warn(\n"
     ]
    },
    {
     "name": "stdout",
     "output_type": "stream",
     "text": [
      "(epoch: 2, iters: 480, time: 0.873, data: 0.002) G_GAN: 1.561 G_L1: 13.980 D_real: 0.482 D_fake: 0.698 \n",
      "saving the latest model (epoch 2, total_iters 20000)\n",
      "(epoch: 2, iters: 1280, time: 0.891, data: 0.002) G_GAN: 1.981 G_L1: 15.493 D_real: 0.102 D_fake: 0.522 \n",
      "^C\n"
     ]
    }
   ],
   "source": [
    "!python train.py --dataroot ../Dataset/dataset20k --name vivify --model pix2pix --direction BtoA --gpu_ids -1 --n_epochs 10 --n_epochs_decay 10 --batch_size 32"
   ]
  }
 ],
 "metadata": {
  "accelerator": "GPU",
  "colab": {
   "collapsed_sections": [],
   "include_colab_link": true,
   "name": "pix2pix",
   "provenance": []
  },
  "environment": {
   "name": "tf2-gpu.2-3.m74",
   "type": "gcloud",
   "uri": "gcr.io/deeplearning-platform-release/tf2-gpu.2-3:m74"
  },
  "kernelspec": {
   "display_name": "Python 3 (ipykernel)",
   "language": "python",
   "name": "python3"
  },
  "language_info": {
   "codemirror_mode": {
    "name": "ipython",
    "version": 3
   },
   "file_extension": ".py",
   "mimetype": "text/x-python",
   "name": "python",
   "nbconvert_exporter": "python",
   "pygments_lexer": "ipython3",
   "version": "3.9.7"
  }
 },
 "nbformat": 4,
 "nbformat_minor": 4
}
